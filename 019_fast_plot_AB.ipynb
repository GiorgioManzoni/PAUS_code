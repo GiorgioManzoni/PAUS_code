{
 "cells": [
  {
   "cell_type": "code",
   "execution_count": 5,
   "metadata": {},
   "outputs": [],
   "source": [
    "import numpy as np\n",
    "import matplotlib.pyplot as plt\n",
    "import matplotlib \n",
    "%matplotlib inline\n",
    "import pandas as pd"
   ]
  },
  {
   "cell_type": "code",
   "execution_count": 3,
   "metadata": {},
   "outputs": [],
   "source": [
    "data =pd.read_table('../data/LENS_AB_WORLD_only.tsv') \n",
    "# semimajor and semiminor axis in degrees (1 degree = 3600 arcseconds)"
   ]
  },
  {
   "cell_type": "code",
   "execution_count": 19,
   "metadata": {},
   "outputs": [
    {
     "data": {
      "image/png": "[encoded data removed]",
      "text/plain": [
       "<matplotlib.figure.Figure at 0x7f1667c59a10>"
      ]
     },
     "metadata": {},
     "output_type": "display_data"
    },
    {
     "name": "stdout",
     "output_type": "stream",
     "text": [
      "<bound method Series.median of 0           0.397408\n",
      "1           0.227756\n",
      "2           0.647089\n",
      "3           0.234640\n",
      "4           0.547157\n",
      "5           0.474674\n",
      "6           0.345854\n",
      "7           0.342520\n",
      "8           0.902678\n",
      "9           1.259654\n",
      "10          0.569466\n",
      "11          0.825451\n",
      "12          0.303818\n",
      "13          0.429552\n",
      "14          1.076566\n",
      "15          0.308830\n",
      "16          0.274535\n",
      "17          0.379267\n",
      "18          0.394510\n",
      "19          0.271290\n",
      "20          0.135022\n",
      "21          0.194028\n",
      "22          0.505084\n",
      "23          0.355382\n",
      "24          0.788785\n",
      "25          0.253695\n",
      "26          1.019833\n",
      "27          0.515459\n",
      "28          0.156856\n",
      "29          0.570787\n",
      "              ...   \n",
      "22724676    0.413042\n",
      "22724677    0.687766\n",
      "22724678    0.365173\n",
      "22724679    0.584986\n",
      "22724680    0.947686\n",
      "22724681    0.551171\n",
      "22724682    0.420484\n",
      "22724683    0.436032\n",
      "22724684    0.457384\n",
      "22724685    0.290290\n",
      "22724686    0.656093\n",
      "22724687    0.182756\n",
      "22724688    0.246395\n",
      "22724689    0.426877\n",
      "22724690    0.333098\n",
      "22724691    0.611525\n",
      "22724692    0.446166\n",
      "22724693    0.404759\n",
      "22724694    0.182500\n",
      "22724695    0.499579\n",
      "22724696    0.605772\n",
      "22724697    0.540367\n",
      "22724698    0.341947\n",
      "22724699    0.381985\n",
      "22724700    0.402851\n",
      "22724701    0.366131\n",
      "22724702    0.486583\n",
      "22724703    0.189426\n",
      "22724704    0.317234\n",
      "22724705    1.221973\n",
      "Name: A_WORLD, Length: 22724706, dtype: float64>\n"
     ]
    }
   ],
   "source": [
    "A_arcsec = data['A_WORLD']*3600.\n",
    "plt.hist(A_arcsec,bins=30,range=(0,1.5))\n",
    "plt.show()\n",
    "print A_arcsec.median"
   ]
  },
  {
   "cell_type": "code",
   "execution_count": null,
   "metadata": {},
   "outputs": [],
   "source": []
  }
 ],
 "metadata": {
  "kernelspec": {
   "display_name": "Python 2",
   "language": "python",
   "name": "python2"
  },
  "language_info": {
   "codemirror_mode": {
    "name": "ipython",
    "version": 2
   },
   "file_extension": ".py",
   "mimetype": "text/x-python",
   "name": "python",
   "nbconvert_exporter": "python",
   "pygments_lexer": "ipython2",
   "version": "2.7.11"
  }
 },
 "nbformat": 4,
 "nbformat_minor": 2
}
